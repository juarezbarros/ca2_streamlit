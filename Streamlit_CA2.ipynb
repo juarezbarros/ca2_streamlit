{
 "cells": [
  {
   "cell_type": "code",
   "execution_count": null,
   "id": "e7a42678",
   "metadata": {},
   "outputs": [],
   "source": [
    "import streamlit as st\n",
    "import pandas as pd\n",
    "import plotly.graph_objects as go\n",
    "\n",
    "url = \"df_sarima_graph1.csv\"\n",
    "df_sarima_graph1 = pd.read_csv(url)\n",
    "\n",
    "\n",
    "\n",
    "df = df_sarima_graph1.copy()\n",
    "df['Date'] = pd.to_datetime(df['Date'])\n",
    "\n",
    "\n",
    "horizon = st.selectbox(\"...\", ['Pred_1', 'Pred_3', 'Pred_7'])\n",
    "\n",
    "\n",
    "plot_df = df[['Date', 'Close', horizon]].dropna()\n",
    "\n",
    "\n",
    "fig = go.Figure()\n",
    "\n",
    "\n",
    "fig.add_trace(go.Scatter(\n",
    "    x=plot_df['Date'],\n",
    "    y=plot_df['Close'],\n",
    "    mode='lines+markers',\n",
    "    name='Real Price'\n",
    "))\n",
    "\n",
    "\n",
    "fig.add_trace(go.Scatter(\n",
    "    x=plot_df['Date'],\n",
    "    y=plot_df[horizon],\n",
    "    mode='lines+markers',\n",
    "    name=f'Prediction {horizon}'\n",
    "))\n",
    "\n",
    "fig.update_layout(\n",
    "    title=f'AAPL - Real Price vs Prediction {horizon}',\n",
    "    xaxis_title='Date',\n",
    "    yaxis_title='Price ($)',\n",
    "    template='plotly_white'\n",
    ")\n",
    "\n",
    "st.plotly_chart(fig)"
   ]
  }
 ],
 "metadata": {
  "kernelspec": {
   "display_name": "Python (myenv)",
   "language": "python",
   "name": "myenv"
  },
  "language_info": {
   "codemirror_mode": {
    "name": "ipython",
    "version": 3
   },
   "file_extension": ".py",
   "mimetype": "text/x-python",
   "name": "python",
   "nbconvert_exporter": "python",
   "pygments_lexer": "ipython3",
   "version": "3.12.3"
  }
 },
 "nbformat": 4,
 "nbformat_minor": 5
}
